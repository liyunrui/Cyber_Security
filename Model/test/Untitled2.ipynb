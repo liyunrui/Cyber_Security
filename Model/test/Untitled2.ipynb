{
 "cells": [
  {
   "cell_type": "code",
   "execution_count": 11,
   "metadata": {},
   "outputs": [],
   "source": [
    "import numpy as np\n",
    "import pandas as pd\n",
    "import xgboost as xgb\n",
    "import matplotlib.pyplot as plt\n"
   ]
  },
  {
   "cell_type": "code",
   "execution_count": 126,
   "metadata": {},
   "outputs": [
    {
     "data": {
      "text/html": [
       "<div>\n",
       "<style>\n",
       "    .dataframe thead tr:only-child th {\n",
       "        text-align: right;\n",
       "    }\n",
       "\n",
       "    .dataframe thead th {\n",
       "        text-align: left;\n",
       "    }\n",
       "\n",
       "    .dataframe tbody tr th {\n",
       "        vertical-align: top;\n",
       "    }\n",
       "</style>\n",
       "<table border=\"1\" class=\"dataframe\">\n",
       "  <thead>\n",
       "    <tr style=\"text-align: right;\">\n",
       "      <th></th>\n",
       "      <th>Unnamed: 0</th>\n",
       "      <th>Unnamed: 0.1</th>\n",
       "      <th>device_dev_name</th>\n",
       "      <th>device_family_name</th>\n",
       "      <th>device_os_name</th>\n",
       "      <th>device_type_name</th>\n",
       "      <th>device_vendor_name</th>\n",
       "      <th>event_protocol_id</th>\n",
       "      <th>event_flow_outbound_or_inbound</th>\n",
       "      <th>event_role_device_or_router</th>\n",
       "      <th>event_role_server_or_client</th>\n",
       "      <th>event_rule_category</th>\n",
       "      <th>event_rule_id</th>\n",
       "      <th>event_rule_name</th>\n",
       "      <th>event_rule_reference</th>\n",
       "      <th>event_rule_severity</th>\n",
       "      <th>event_self_ipv4</th>\n",
       "      <th>event_time</th>\n",
       "      <th>router_ip</th>\n",
       "    </tr>\n",
       "  </thead>\n",
       "  <tbody>\n",
       "    <tr>\n",
       "      <th>0</th>\n",
       "      <td>172277</td>\n",
       "      <td>172277</td>\n",
       "      <td>0</td>\n",
       "      <td>0</td>\n",
       "      <td>0</td>\n",
       "      <td>0</td>\n",
       "      <td>0</td>\n",
       "      <td>6</td>\n",
       "      <td>outbound</td>\n",
       "      <td>device</td>\n",
       "      <td>server</td>\n",
       "      <td>0</td>\n",
       "      <td>1130489</td>\n",
       "      <td>SSL TLSv1.0 FREAK with CBC Cipher TLS_RSA_EXPO...</td>\n",
       "      <td>CVE-2015-0204; CVE-2015-1637</td>\n",
       "      <td>3</td>\n",
       "      <td>10.200.10.3</td>\n",
       "      <td>16</td>\n",
       "      <td>156.15.215.88</td>\n",
       "    </tr>\n",
       "    <tr>\n",
       "      <th>1</th>\n",
       "      <td>502376</td>\n",
       "      <td>502376</td>\n",
       "      <td>1</td>\n",
       "      <td>1</td>\n",
       "      <td>1</td>\n",
       "      <td>1</td>\n",
       "      <td>1</td>\n",
       "      <td>6</td>\n",
       "      <td>outbound</td>\n",
       "      <td>device</td>\n",
       "      <td>server</td>\n",
       "      <td>0</td>\n",
       "      <td>1130489</td>\n",
       "      <td>SSL TLSv1.0 FREAK with CBC Cipher TLS_RSA_EXPO...</td>\n",
       "      <td>CVE-2015-0204; CVE-2015-1637</td>\n",
       "      <td>3</td>\n",
       "      <td>192.168.1.25</td>\n",
       "      <td>10</td>\n",
       "      <td>21.227.231.223</td>\n",
       "    </tr>\n",
       "    <tr>\n",
       "      <th>2</th>\n",
       "      <td>795932</td>\n",
       "      <td>795932</td>\n",
       "      <td>2</td>\n",
       "      <td>0</td>\n",
       "      <td>2</td>\n",
       "      <td>0</td>\n",
       "      <td>2</td>\n",
       "      <td>6</td>\n",
       "      <td>outbound</td>\n",
       "      <td>device</td>\n",
       "      <td>server</td>\n",
       "      <td>0</td>\n",
       "      <td>1130489</td>\n",
       "      <td>SSL TLSv1.0 FREAK with CBC Cipher TLS_RSA_EXPO...</td>\n",
       "      <td>CVE-2015-0204; CVE-2015-1637</td>\n",
       "      <td>3</td>\n",
       "      <td>192.168.10.114</td>\n",
       "      <td>14</td>\n",
       "      <td>217.123.122.179</td>\n",
       "    </tr>\n",
       "    <tr>\n",
       "      <th>3</th>\n",
       "      <td>43035</td>\n",
       "      <td>43035</td>\n",
       "      <td>3</td>\n",
       "      <td>0</td>\n",
       "      <td>3</td>\n",
       "      <td>0</td>\n",
       "      <td>2</td>\n",
       "      <td>6</td>\n",
       "      <td>outbound</td>\n",
       "      <td>device</td>\n",
       "      <td>server</td>\n",
       "      <td>0</td>\n",
       "      <td>1130489</td>\n",
       "      <td>SSL TLSv1.0 FREAK with CBC Cipher TLS_RSA_EXPO...</td>\n",
       "      <td>CVE-2015-0204; CVE-2015-1637</td>\n",
       "      <td>3</td>\n",
       "      <td>192.168.1.102</td>\n",
       "      <td>14</td>\n",
       "      <td>114.176.251.173</td>\n",
       "    </tr>\n",
       "    <tr>\n",
       "      <th>4</th>\n",
       "      <td>616236</td>\n",
       "      <td>616236</td>\n",
       "      <td>2</td>\n",
       "      <td>0</td>\n",
       "      <td>2</td>\n",
       "      <td>0</td>\n",
       "      <td>2</td>\n",
       "      <td>6</td>\n",
       "      <td>outbound</td>\n",
       "      <td>device</td>\n",
       "      <td>server</td>\n",
       "      <td>0</td>\n",
       "      <td>1130491</td>\n",
       "      <td>SSL TLSv1.0 FREAK with CBC Cipher TLS_RSA_EXPO...</td>\n",
       "      <td>CVE-2015-0204; CVE-2015-1637</td>\n",
       "      <td>3</td>\n",
       "      <td>192.168.0.2</td>\n",
       "      <td>16</td>\n",
       "      <td>183.156.247.70</td>\n",
       "    </tr>\n",
       "  </tbody>\n",
       "</table>\n",
       "</div>"
      ],
      "text/plain": [
       "   Unnamed: 0  Unnamed: 0.1  device_dev_name  device_family_name  \\\n",
       "0      172277        172277                0                   0   \n",
       "1      502376        502376                1                   1   \n",
       "2      795932        795932                2                   0   \n",
       "3       43035         43035                3                   0   \n",
       "4      616236        616236                2                   0   \n",
       "\n",
       "   device_os_name  device_type_name  device_vendor_name  event_protocol_id  \\\n",
       "0               0                 0                   0                  6   \n",
       "1               1                 1                   1                  6   \n",
       "2               2                 0                   2                  6   \n",
       "3               3                 0                   2                  6   \n",
       "4               2                 0                   2                  6   \n",
       "\n",
       "  event_flow_outbound_or_inbound event_role_device_or_router  \\\n",
       "0                       outbound                      device   \n",
       "1                       outbound                      device   \n",
       "2                       outbound                      device   \n",
       "3                       outbound                      device   \n",
       "4                       outbound                      device   \n",
       "\n",
       "  event_role_server_or_client  event_rule_category  event_rule_id  \\\n",
       "0                      server                    0        1130489   \n",
       "1                      server                    0        1130489   \n",
       "2                      server                    0        1130489   \n",
       "3                      server                    0        1130489   \n",
       "4                      server                    0        1130491   \n",
       "\n",
       "                                     event_rule_name  \\\n",
       "0  SSL TLSv1.0 FREAK with CBC Cipher TLS_RSA_EXPO...   \n",
       "1  SSL TLSv1.0 FREAK with CBC Cipher TLS_RSA_EXPO...   \n",
       "2  SSL TLSv1.0 FREAK with CBC Cipher TLS_RSA_EXPO...   \n",
       "3  SSL TLSv1.0 FREAK with CBC Cipher TLS_RSA_EXPO...   \n",
       "4  SSL TLSv1.0 FREAK with CBC Cipher TLS_RSA_EXPO...   \n",
       "\n",
       "           event_rule_reference  event_rule_severity event_self_ipv4  \\\n",
       "0  CVE-2015-0204; CVE-2015-1637                    3     10.200.10.3   \n",
       "1  CVE-2015-0204; CVE-2015-1637                    3    192.168.1.25   \n",
       "2  CVE-2015-0204; CVE-2015-1637                    3  192.168.10.114   \n",
       "3  CVE-2015-0204; CVE-2015-1637                    3   192.168.1.102   \n",
       "4  CVE-2015-0204; CVE-2015-1637                    3     192.168.0.2   \n",
       "\n",
       "   event_time        router_ip  \n",
       "0          16    156.15.215.88  \n",
       "1          10   21.227.231.223  \n",
       "2          14  217.123.122.179  \n",
       "3          14  114.176.251.173  \n",
       "4          16   183.156.247.70  "
      ]
     },
     "execution_count": 126,
     "metadata": {},
     "output_type": "execute_result"
    }
   ],
   "source": [
    "file_path1 = '/Volumes/Transcend/HackNtu_2017/Security/Raw Data/train.csv'\n",
    "file_path2 = '/Volumes/Transcend/HackNtu_2017/Security/Raw Data/val.csv'\n",
    "df_train = pd.read_csv(file_path1)\n",
    "df_val = pd.read_csv(file_path2)\n",
    "df_train.drop('device_hashed_mac', axis= 1,inplace = True)\n",
    "df_val.drop('device_hashed_mac', axis= 1,inplace = True)\n",
    "\n",
    "df_val = df_train.loc[df_train['event_flow_outbound_or_inbound'] == 'outbound' ]# For 判斷此為被攻擊的數據\n",
    "df_val = df_val.loc[df_val['event_flow_outbound_or_inbound'] == 'outbound' ]\n",
    "df_train.head()"
   ]
  },
  {
   "cell_type": "code",
   "execution_count": 119,
   "metadata": {},
   "outputs": [
    {
     "name": "stdout",
     "output_type": "stream",
     "text": [
      "X_train shape is (320520, 6)\n",
      "y_train shape is (320520,)\n",
      "X_val shape is (80130, 6)\n",
      "y_val shape is (80130,)\n"
     ]
    },
    {
     "ename": "NameError",
     "evalue": "name 'test' is not defined",
     "output_type": "error",
     "traceback": [
      "\u001b[0;31m---------------------------------------------------------------------------\u001b[0m",
      "\u001b[0;31mNameError\u001b[0m                                 Traceback (most recent call last)",
      "\u001b[0;32m<ipython-input-119-7a0dc968be0a>\u001b[0m in \u001b[0;36m<module>\u001b[0;34m()\u001b[0m\n\u001b[1;32m     18\u001b[0m \u001b[0mprint\u001b[0m\u001b[0;34m(\u001b[0m\u001b[0;34m'y_val shape is'\u001b[0m\u001b[0;34m,\u001b[0m \u001b[0my_val\u001b[0m\u001b[0;34m.\u001b[0m\u001b[0mshape\u001b[0m\u001b[0;34m)\u001b[0m\u001b[0;34m\u001b[0m\u001b[0m\n\u001b[1;32m     19\u001b[0m \u001b[0mX_train\u001b[0m \u001b[0;34m=\u001b[0m \u001b[0mX_train\u001b[0m\u001b[0;34m.\u001b[0m\u001b[0mastype\u001b[0m\u001b[0;34m(\u001b[0m\u001b[0mfloat\u001b[0m\u001b[0;34m)\u001b[0m\u001b[0;34m\u001b[0m\u001b[0m\n\u001b[0;32m---> 20\u001b[0;31m \u001b[0mX_val\u001b[0m \u001b[0;34m=\u001b[0m \u001b[0mtest\u001b[0m\u001b[0;34m.\u001b[0m\u001b[0mastype\u001b[0m\u001b[0;34m(\u001b[0m\u001b[0mfloat\u001b[0m\u001b[0;34m)\u001b[0m\u001b[0;34m\u001b[0m\u001b[0m\n\u001b[0m",
      "\u001b[0;31mNameError\u001b[0m: name 'test' is not defined"
     ]
    }
   ],
   "source": [
    "def groundtruth_for_xgb(groundtruth):\n",
    "    # The function is for class is represented by a number and should be from 0 to num_class - 1. \n",
    "    output = groundtruth.tolist()\n",
    "    min_ = min(output)\n",
    "    output = np.array([ i- min_ for i in output])\n",
    "    return output\n",
    "#inpit feature\n",
    "X_train = df_train.values[:,[i+2 for i in range(5)] +[-2]]\n",
    "X_val = df_val.values[:,[i+2 for i in range(5)] +[-2]]\n",
    "y_train = groundtruth_for_xgb(df_train.values[:,-4])\n",
    "y_val = groundtruth_for_xgb(df_val.values[:,-4])\n",
    "\n",
    "\n",
    "#df_columns = df_values.columns\n",
    "df_columns = [\"device_dev_name\", \"device_family_name\", \"device_os_name\", \"device_type_name\", \"device_vendor_name\", \"event_protocol_id\",'event_time']\n",
    "print('X_train shape is', X_train.shape)\n",
    "print('y_train shape is', y_train.shape)\n",
    "print('X_val shape is', X_val.shape)\n",
    "print('y_val shape is', y_val.shape)\n"
   ]
  },
  {
   "cell_type": "code",
   "execution_count": null,
   "metadata": {},
   "outputs": [],
   "source": [
    "#######\n",
    "#xgb\n",
    "#######\n",
    "dtrain = xgb.DMatrix(X_train, y_train, feature_names=df_columns)\n",
    "dval = xgb.DMatrix(X_val, y_val, feature_names=df_columns)"
   ]
  },
  {
   "cell_type": "code",
   "execution_count": 117,
   "metadata": {},
   "outputs": [
    {
     "name": "stdout",
     "output_type": "stream",
     "text": [
      "[0]\tval-merror:0.598964\n",
      "Will train until val-merror hasn't improved in 20 rounds.\n",
      "[20]\tval-merror:0.59874\n",
      "Stopping. Best iteration:\n",
      "[3]\tval-merror:0.537826\n",
      "\n"
     ]
    },
    {
     "data": {
      "text/plain": [
       "3"
      ]
     },
     "execution_count": 117,
     "metadata": {},
     "output_type": "execute_result"
    }
   ],
   "source": [
    "#############\n",
    "# training \n",
    "#############\n",
    "xgb_params = {\n",
    "    'booster':'gbtree',\n",
    "    'eta': 0.3,\n",
    "    'max_depth': 15,\n",
    "    'subsample': 1.0,\n",
    "    'colsample_bytree': 0.8,\n",
    "    'objective': 'multi:softprob',\n",
    "    'num_class': 3 ,\n",
    "    'eval_metric': 'merror',\n",
    "    'silent': 1\n",
    "}\n",
    "\n",
    "'''\n",
    "parameter\n",
    "eta:\n",
    "step size shrinkage used in update to prevents overfitting.\n",
    "After each boosting step, we can directly get the weights of new features. \n",
    "and eta actually shrinks the feature weights to make the boosting process more conservative.\n",
    "like regularization\n",
    "'''\n",
    "\n",
    "'''\n",
    "Before running XGboost, \n",
    "we must set three types of parameters: \n",
    "1.general parameters # it relates to which booster we are using to do boosting, commonly tree or linear model\n",
    "2.booster parameters \n",
    "3.task parameters. # it depends on taskt such as ranking task, regression task\n",
    "\n",
    "'''\n",
    "partial_model = xgb.train(xgb_params, dtrain, num_boost_round=500, evals=[(dval, 'val')],\n",
    "                       early_stopping_rounds=20, verbose_eval = 20)\n",
    "\n",
    "num_boost_round = partial_model.best_iteration \n",
    "num_boost_round"
   ]
  },
  {
   "cell_type": "code",
   "execution_count": 118,
   "metadata": {},
   "outputs": [
    {
     "data": {
      "image/png": "[encoded data removed]",
      "text/plain": [
       "<matplotlib.figure.Figure at 0x11f3592b0>"
      ]
     },
     "metadata": {},
     "output_type": "display_data"
    }
   ],
   "source": [
    "fig, ax = plt.subplots(1, 1, figsize=(8, 16))\n",
    "xgb.plot_importance(partial_model, height=0.5, ax=ax,)\n",
    "plt.show()"
   ]
  },
  {
   "cell_type": "code",
   "execution_count": 111,
   "metadata": {},
   "outputs": [
    {
     "data": {
      "text/plain": [
       "0"
      ]
     },
     "execution_count": 111,
     "metadata": {},
     "output_type": "execute_result"
    }
   ],
   "source": [
    "num_boost_round = partial_model.best_iteration\n",
    "num_boost_round"
   ]
  },
  {
   "cell_type": "code",
   "execution_count": 104,
   "metadata": {},
   "outputs": [
    {
     "data": {
      "text/plain": [
       "<xgboost.core.Booster at 0x1208460b8>"
      ]
     },
     "execution_count": 104,
     "metadata": {},
     "output_type": "execute_result"
    }
   ],
   "source": [
    "# num_boost_round : Number of boosting iterations: 用validation error 得到的epoch\n",
    "model = xgb.train(dict(xgb_params, silent=0), dtrain, num_boost_round = num_boost_round)# Booster object\n",
    "model"
   ]
  },
  {
   "cell_type": "code",
   "execution_count": 105,
   "metadata": {},
   "outputs": [
    {
     "ename": "ValueError",
     "evalue": "Booster.get_score() results in empty",
     "output_type": "error",
     "traceback": [
      "\u001b[0;31m---------------------------------------------------------------------------\u001b[0m",
      "\u001b[0;31mValueError\u001b[0m                                Traceback (most recent call last)",
      "\u001b[0;32m<ipython-input-105-10d19aa7f259>\u001b[0m in \u001b[0;36m<module>\u001b[0;34m()\u001b[0m\n\u001b[1;32m      1\u001b[0m \u001b[0mfig\u001b[0m\u001b[0;34m,\u001b[0m \u001b[0max\u001b[0m \u001b[0;34m=\u001b[0m \u001b[0mplt\u001b[0m\u001b[0;34m.\u001b[0m\u001b[0msubplots\u001b[0m\u001b[0;34m(\u001b[0m\u001b[0;36m1\u001b[0m\u001b[0;34m,\u001b[0m \u001b[0;36m1\u001b[0m\u001b[0;34m,\u001b[0m \u001b[0mfigsize\u001b[0m\u001b[0;34m=\u001b[0m\u001b[0;34m(\u001b[0m\u001b[0;36m8\u001b[0m\u001b[0;34m,\u001b[0m \u001b[0;36m16\u001b[0m\u001b[0;34m)\u001b[0m\u001b[0;34m)\u001b[0m\u001b[0;34m\u001b[0m\u001b[0m\n\u001b[0;32m----> 2\u001b[0;31m \u001b[0mxgb\u001b[0m\u001b[0;34m.\u001b[0m\u001b[0mplot_importance\u001b[0m\u001b[0;34m(\u001b[0m\u001b[0mmodel\u001b[0m\u001b[0;34m,\u001b[0m \u001b[0mheight\u001b[0m\u001b[0;34m=\u001b[0m\u001b[0;36m0.5\u001b[0m\u001b[0;34m,\u001b[0m \u001b[0max\u001b[0m\u001b[0;34m=\u001b[0m\u001b[0max\u001b[0m\u001b[0;34m)\u001b[0m\u001b[0;34m\u001b[0m\u001b[0m\n\u001b[0m\u001b[1;32m      3\u001b[0m \u001b[0mplt\u001b[0m\u001b[0;34m.\u001b[0m\u001b[0mshow\u001b[0m\u001b[0;34m(\u001b[0m\u001b[0;34m)\u001b[0m\u001b[0;34m\u001b[0m\u001b[0m\n",
      "\u001b[0;32m/Library/Frameworks/Python.framework/Versions/3.5/lib/python3.5/site-packages/xgboost/plotting.py\u001b[0m in \u001b[0;36mplot_importance\u001b[0;34m(booster, ax, height, xlim, ylim, title, xlabel, ylabel, importance_type, grid, **kwargs)\u001b[0m\n\u001b[1;32m     67\u001b[0m \u001b[0;34m\u001b[0m\u001b[0m\n\u001b[1;32m     68\u001b[0m     \u001b[0;32mif\u001b[0m \u001b[0mlen\u001b[0m\u001b[0;34m(\u001b[0m\u001b[0mimportance\u001b[0m\u001b[0;34m)\u001b[0m \u001b[0;34m==\u001b[0m \u001b[0;36m0\u001b[0m\u001b[0;34m:\u001b[0m\u001b[0;34m\u001b[0m\u001b[0m\n\u001b[0;32m---> 69\u001b[0;31m         \u001b[0;32mraise\u001b[0m \u001b[0mValueError\u001b[0m\u001b[0;34m(\u001b[0m\u001b[0;34m'Booster.get_score() results in empty'\u001b[0m\u001b[0;34m)\u001b[0m\u001b[0;34m\u001b[0m\u001b[0m\n\u001b[0m\u001b[1;32m     70\u001b[0m \u001b[0;34m\u001b[0m\u001b[0m\n\u001b[1;32m     71\u001b[0m     \u001b[0mtuples\u001b[0m \u001b[0;34m=\u001b[0m \u001b[0;34m[\u001b[0m\u001b[0;34m(\u001b[0m\u001b[0mk\u001b[0m\u001b[0;34m,\u001b[0m \u001b[0mimportance\u001b[0m\u001b[0;34m[\u001b[0m\u001b[0mk\u001b[0m\u001b[0;34m]\u001b[0m\u001b[0;34m)\u001b[0m \u001b[0;32mfor\u001b[0m \u001b[0mk\u001b[0m \u001b[0;32min\u001b[0m \u001b[0mimportance\u001b[0m\u001b[0;34m]\u001b[0m\u001b[0;34m\u001b[0m\u001b[0m\n",
      "\u001b[0;31mValueError\u001b[0m: Booster.get_score() results in empty"
     ]
    }
   ],
   "source": [
    "fig, ax = plt.subplots(1, 1, figsize=(8, 16))\n",
    "xgb.plot_importance(model, height=0.5, ax=ax)\n",
    "plt.show()"
   ]
  },
  {
   "cell_type": "code",
   "execution_count": 112,
   "metadata": {},
   "outputs": [
    {
     "data": {
      "text/plain": [
       "array([[ 0.33333334,  0.33333334,  0.33333334],\n",
       "       [ 0.33333334,  0.33333334,  0.33333334],\n",
       "       [ 0.33333334,  0.33333334,  0.33333334],\n",
       "       ..., \n",
       "       [ 0.33333334,  0.33333334,  0.33333334],\n",
       "       [ 0.33333334,  0.33333334,  0.33333334],\n",
       "       [ 0.33333334,  0.33333334,  0.33333334]], dtype=float32)"
      ]
     },
     "execution_count": 112,
     "metadata": {},
     "output_type": "execute_result"
    }
   ],
   "source": [
    "##############\n",
    "# prediction\n",
    "##############\n",
    "y_pred = model.predict(dval)\n",
    "y_pred"
   ]
  },
  {
   "cell_type": "code",
   "execution_count": 121,
   "metadata": {},
   "outputs": [
    {
     "data": {
      "text/plain": [
       "<xgboost.core.Booster at 0x12a28cf28>"
      ]
     },
     "execution_count": 121,
     "metadata": {},
     "output_type": "execute_result"
    }
   ],
   "source": [
    "load_path = '/Volumes/Transcend/HackNtu_2017/Security/Model/0001.model'\n",
    "bst = xgb.Booster({'nthread':4}) #init model\n",
    "bst.load_model(load_path) # load data\n",
    "bst"
   ]
  },
  {
   "cell_type": "code",
   "execution_count": 123,
   "metadata": {},
   "outputs": [
    {
     "data": {
      "text/plain": [
       "array([ 0.33333334,  0.33333334,  0.33333334, ...,  0.33333334,\n",
       "        0.33333334,  0.33333334], dtype=float32)"
      ]
     },
     "execution_count": 123,
     "metadata": {},
     "output_type": "execute_result"
    }
   ],
   "source": [
    "y_pred = bst.predict(dval)\n",
    "y_pred"
   ]
  },
  {
   "cell_type": "code",
   "execution_count": null,
   "metadata": {
    "collapsed": true
   },
   "outputs": [],
   "source": []
  }
 ],
 "metadata": {
  "kernelspec": {
   "display_name": "Python 3",
   "language": "python",
   "name": "python3"
  },
  "language_info": {
   "codemirror_mode": {
    "name": "ipython",
    "version": 3
   },
   "file_extension": ".py",
   "mimetype": "text/x-python",
   "name": "python",
   "nbconvert_exporter": "python",
   "pygments_lexer": "ipython3",
   "version": "3.5.2"
  }
 },
 "nbformat": 4,
 "nbformat_minor": 2
}
