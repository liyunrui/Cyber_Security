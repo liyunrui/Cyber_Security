{
 "cells": [
  {
   "cell_type": "code",
   "execution_count": 227,
   "metadata": {},
   "outputs": [],
   "source": [
    "import pandas as pd\n",
    "\n",
    "file_path = '/Volumes/Transcend/HackNtu_2017/Security/Raw Data/TBrain_IPS_new.csv' \n",
    "data = pd.read_csv(file_path)\n",
    "data2 = data.dropna()\n",
    "\n",
    "def convert_str_to_nominal_variables(data2, col_name):\n",
    "    data_tmp = data2[col_name]\n",
    "    cat = list(enumerate(list(data_tmp.unique())))\n",
    "    table = dict()\n",
    "    for item in cat:\n",
    "        table[item[1]] = item[0]\n",
    "    data2.replace({col_name:table})\n",
    "    return data2"
   ]
  },
  {
   "cell_type": "code",
   "execution_count": null,
   "metadata": {},
   "outputs": [],
   "source": [
    "col_name = [\"device_dev_name\", \"device_family_name\", \"device_hashed_mac\", \"device_os_name\", \n",
    "            \"device_type_name\", \"device_vendor_name\", \"event_protocol_id\"]\n",
    "for name in col_name:\n",
    "    convert_str_to_nominal_variables(data2,name)"
   ]
  },
  {
   "cell_type": "code",
   "execution_count": 220,
   "metadata": {},
   "outputs": [
    {
     "name": "stdout",
     "output_type": "stream",
     "text": [
      "device_dev_name\n"
     ]
    },
    {
     "name": "stderr",
     "output_type": "stream",
     "text": [
      "IOPub data rate exceeded.\n",
      "The notebook server will temporarily stop sending output\n",
      "to the client in order to avoid crashing it.\n",
      "To change this limit, set the config variable\n",
      "`--NotebookApp.iopub_data_rate_limit`.\n"
     ]
    }
   ],
   "source": []
  },
  {
   "cell_type": "code",
   "execution_count": 136,
   "metadata": {},
   "outputs": [
    {
     "name": "stdout",
     "output_type": "stream",
     "text": [
      "test True\n",
      "(18950, 18)\n",
      "(4738, 18)\n"
     ]
    }
   ],
   "source": [
    "###################################\n",
    "# Saving \n",
    "####################################\n",
    "saving_path1 = '/Volumes/Transcend/HackNtu_2017/Security/Raw Data/train.csv'\n",
    "saving_path2 = '/Volumes/Transcend/HackNtu_2017/Security/Raw Data/val.csv'\n",
    "Dtrain.to_csv(saving_path1)\n",
    "Dval.to_csv(saving_path2)\n",
    "\n",
    "print ('Finished !!!!')"
   ]
  },
  {
   "cell_type": "code",
   "execution_count": 137,
   "metadata": {},
   "outputs": [
    {
     "name": "stdout",
     "output_type": "stream",
     "text": [
      "test True\n"
     ]
    }
   ],
   "source": [
    "df2_train = Data.loc[Data['event_rule_severity'] == 4].sample(frac=0.8)\n",
    "df2_val = Data.loc[Data['event_rule_severity'] == 4].drop(df2_train.index[[i for i in range(df2_train.shape[0])]])\n",
    "print ('test',Data.loc[Data['event_rule_severity'] == 4].shape[0] == df2_train.shape[0] + df2_val.shape[0] )\n",
    "# print (df2_train.shape)\n",
    "# print (df2_val.shape)"
   ]
  },
  {
   "cell_type": "code",
   "execution_count": 133,
   "metadata": {},
   "outputs": [
    {
     "name": "stdout",
     "output_type": "stream",
     "text": [
      "test True\n"
     ]
    }
   ],
   "source": [
    "df3_train = Data.loc[Data['event_rule_severity'] == 5].sample(frac=0.8)\n",
    "df3_val = Data.loc[Data['event_rule_severity'] == 5].drop(df3_train.index[[i for i in range(df3_train.shape[0])]])\n",
    "print ('test',Data.loc[Data['event_rule_severity'] == 5].shape[0] == df3_train.shape[0] + df3_val.shape[0] )"
   ]
  },
  {
   "cell_type": "code",
   "execution_count": 142,
   "metadata": {},
   "outputs": [
    {
     "data": {
      "text/plain": [
       "(801794, 18)"
      ]
     },
     "execution_count": 142,
     "metadata": {},
     "output_type": "execute_result"
    }
   ],
   "source": [
    "frames_train = [df1_train, df2_train, df3_train]\n",
    "frames_val = [df1_val, df2_val, df3_val]\n",
    "Dtrain = pd.concat(frames_train)\n",
    "Dval = pd.concat(frames_val)\n",
    "Dtrain.shape\n"
   ]
  },
  {
   "cell_type": "code",
   "execution_count": 143,
   "metadata": {},
   "outputs": [
    {
     "data": {
      "text/plain": [
       "True"
      ]
     },
     "execution_count": 143,
     "metadata": {},
     "output_type": "execute_result"
    }
   ],
   "source": []
  },
  {
   "cell_type": "code",
   "execution_count": 153,
   "metadata": {
    "collapsed": true
   },
   "outputs": [],
   "source": [
    "file_path = '/Volumes/Transcend/HackNtu_2017/Security/Raw Data/TBrain_IPS_new.csv'\n",
    "Data = pd.read_csv(file_path)"
   ]
  },
  {
   "cell_type": "code",
   "execution_count": 156,
   "metadata": {
    "collapsed": true
   },
   "outputs": [],
   "source": [
    "#################\n",
    "saving_path1 = '/Volumes/Transcend/HackNtu_2017/Security/Raw Data/train.csv'\n",
    "saving_path2 = '/Volumes/Transcend/HackNtu_2017/Security/Raw Data/val.csv'\n",
    "Dtrain.to_csv(saving_path1)\n",
    "Dval.to_csv(saving_path2)"
   ]
  },
  {
   "cell_type": "code",
   "execution_count": 204,
   "metadata": {},
   "outputs": [
    {
     "data": {
      "text/plain": [
       "array([2, 4, 6, 8])"
      ]
     },
     "execution_count": 204,
     "metadata": {},
     "output_type": "execute_result"
    }
   ],
   "source": [
    "import numpy as np\n",
    "\n",
    "arr = np.array([[1, 2, 3, 4, 5],\n",
    "                [2, 4, 6, 8, 9],\n",
    "                [3, 6, 9, 12, 10],\n",
    "                [4, 8, 12, 16, 11]])\n",
    "arr[:,-4]"
   ]
  },
  {
   "cell_type": "code",
   "execution_count": 203,
   "metadata": {},
   "outputs": [
    {
     "data": {
      "text/plain": [
       "[1, 2, 3, 4, 5, 6, 7, -2]"
      ]
     },
     "execution_count": 203,
     "metadata": {},
     "output_type": "execute_result"
    }
   ],
   "source": [
    "[i+1 for i in range(7)] +[-2]"
   ]
  },
  {
   "cell_type": "code",
   "execution_count": 194,
   "metadata": {},
   "outputs": [
    {
     "ename": "ValueError",
     "evalue": "all the input arrays must have same number of dimensions",
     "output_type": "error",
     "traceback": [
      "\u001b[0;31m---------------------------------------------------------------------------\u001b[0m",
      "\u001b[0;31mValueError\u001b[0m                                Traceback (most recent call last)",
      "\u001b[0;32m<ipython-input-194-81bc6421c5ad>\u001b[0m in \u001b[0;36m<module>\u001b[0;34m()\u001b[0m\n\u001b[0;32m----> 1\u001b[0;31m \u001b[0mnp\u001b[0m\u001b[0;34m.\u001b[0m\u001b[0mhstack\u001b[0m\u001b[0;34m(\u001b[0m\u001b[0;34m(\u001b[0m\u001b[0ma\u001b[0m\u001b[0;34m,\u001b[0m\u001b[0mb\u001b[0m\u001b[0;34m)\u001b[0m\u001b[0;34m)\u001b[0m\u001b[0;34m\u001b[0m\u001b[0m\n\u001b[0m\u001b[1;32m      2\u001b[0m \u001b[0;31m#b\u001b[0m\u001b[0;34m\u001b[0m\u001b[0;34m\u001b[0m\u001b[0m\n",
      "\u001b[0;32m/Library/Frameworks/Python.framework/Versions/3.5/lib/python3.5/site-packages/numpy/core/shape_base.py\u001b[0m in \u001b[0;36mhstack\u001b[0;34m(tup)\u001b[0m\n\u001b[1;32m    291\u001b[0m         \u001b[0;32mreturn\u001b[0m \u001b[0m_nx\u001b[0m\u001b[0;34m.\u001b[0m\u001b[0mconcatenate\u001b[0m\u001b[0;34m(\u001b[0m\u001b[0marrs\u001b[0m\u001b[0;34m,\u001b[0m \u001b[0;36m0\u001b[0m\u001b[0;34m)\u001b[0m\u001b[0;34m\u001b[0m\u001b[0m\n\u001b[1;32m    292\u001b[0m     \u001b[0;32melse\u001b[0m\u001b[0;34m:\u001b[0m\u001b[0;34m\u001b[0m\u001b[0m\n\u001b[0;32m--> 293\u001b[0;31m         \u001b[0;32mreturn\u001b[0m \u001b[0m_nx\u001b[0m\u001b[0;34m.\u001b[0m\u001b[0mconcatenate\u001b[0m\u001b[0;34m(\u001b[0m\u001b[0marrs\u001b[0m\u001b[0;34m,\u001b[0m \u001b[0;36m1\u001b[0m\u001b[0;34m)\u001b[0m\u001b[0;34m\u001b[0m\u001b[0m\n\u001b[0m\u001b[1;32m    294\u001b[0m \u001b[0;34m\u001b[0m\u001b[0m\n\u001b[1;32m    295\u001b[0m \u001b[0;34m\u001b[0m\u001b[0m\n",
      "\u001b[0;31mValueError\u001b[0m: all the input arrays must have same number of dimensions"
     ]
    }
   ],
   "source": [
    "np.stack((a,b))\n",
    "#b"
   ]
  },
  {
   "cell_type": "code",
   "execution_count": null,
   "metadata": {
    "collapsed": true
   },
   "outputs": [],
   "source": []
  }
 ],
 "metadata": {
  "kernelspec": {
   "display_name": "Python 3",
   "language": "python",
   "name": "python3"
  },
  "language_info": {
   "codemirror_mode": {
    "name": "ipython",
    "version": 3
   },
   "file_extension": ".py",
   "mimetype": "text/x-python",
   "name": "python",
   "nbconvert_exporter": "python",
   "pygments_lexer": "ipython3",
   "version": "3.5.2"
  }
 },
 "nbformat": 4,
 "nbformat_minor": 2
}
